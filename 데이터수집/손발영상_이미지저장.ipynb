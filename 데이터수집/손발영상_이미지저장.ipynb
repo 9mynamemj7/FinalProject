{
  "nbformat": 4,
  "nbformat_minor": 0,
  "metadata": {
    "colab": {
      "name": "손발영상_이미지분할.ipynb",
      "provenance": [],
      "collapsed_sections": [],
      "machine_shape": "hm"
    },
    "kernelspec": {
      "name": "python3",
      "display_name": "Python 3"
    },
    "language_info": {
      "name": "python"
    },
    "accelerator": "GPU",
    "gpuClass": "standard"
  },
  "cells": [
    {
      "cell_type": "code",
      "execution_count": 1,
      "metadata": {
        "id": "pmwpJhk0B2ZA",
        "colab": {
          "base_uri": "https://localhost:8080/"
        },
        "outputId": "e93defbe-1925-4bd8-b305-a894797afbf7"
      },
      "outputs": [
        {
          "output_type": "stream",
          "name": "stdout",
          "text": [
            "/content/drive/.shortcut-targets-by-id/1t5JFoUpndxpFtZ957fKqxENUgFJ7lTNo/4조/2.데이터\n"
          ]
        }
      ],
      "source": [
        "%cd /content/drive/MyDrive/4조/2.데이터"
      ]
    },
    {
      "cell_type": "code",
      "source": [
        "import cv2\n",
        "import os, sys\n",
        "import warnings\n",
        "import pandas as pd\n",
        "warnings.filterwarnings('ignore')"
      ],
      "metadata": {
        "id": "K1TOQ43j61t3"
      },
      "execution_count": 12,
      "outputs": []
    },
    {
      "cell_type": "code",
      "source": [
        "hand_lst = []; foot_lst = []\n",
        "for nm in os.listdir('./손톱,발톱영상'):\n",
        "    if '손' in nm :\n",
        "        hand_lst.append(nm)\n",
        "    else:\n",
        "        foot_lst.append(nm)\n",
        "print(len(os.listdir('./손톱,발톱영상')), end= '\\n\\n');print(len(hand_lst),hand_lst, end= '\\n\\n');print(len(foot_lst), foot_lst)"
      ],
      "metadata": {
        "colab": {
          "base_uri": "https://localhost:8080/"
        },
        "id": "LOZdguzFC65V",
        "outputId": "7f7e21ea-195d-4a42-a78e-9ccf6157b661"
      },
      "execution_count": 17,
      "outputs": [
        {
          "output_type": "stream",
          "name": "stdout",
          "text": [
            "23\n",
            "\n",
            "14 ['현진-오른손.MOV', '현진-왼손.MOV', '오른손_방현선.mp4', '왼손_방현선.mp4', 'ㅂㅈ_왼손.mp4', 'ㅂㅈ_오른손.mp4', '수진_왼손.mp4', '수진_오른손1.mp4', '수진_오른손2.mp4', '박성호_손톱_위버전.mp4', '박성호_손톱_일반버전.mp4', '성호_오른손.mp4', 'mj_hand1_왼손.mp4', 'mj_hand2_오른손.mp4']\n",
            "\n",
            "9 ['ㅂㅈ_오른발.mp4', 'ㅂㅈ_왼발.mp4', '수진오른발2.mp4', '수진_오른발1.mp4', '박성호 왼발.mp4', '수진_왼발1.mp4', '박성호_오른발.mp4', 'mj_foot1_오른발.mp4', 'mj_foot2_왼발.mp4']\n"
          ]
        }
      ]
    },
    {
      "cell_type": "markdown",
      "source": [
        "- 왼손 :0 / 오른손:1\n",
        "- 왼발 :0 / 오른손:1"
      ],
      "metadata": {
        "id": "H1-jByAGxYy_"
      }
    },
    {
      "cell_type": "code",
      "source": [
        "if '손이미지' not in os.listdir():\n",
        "    os.mkdir('./손이미지')\n",
        "\n",
        "count = 0\n",
        "hand_tag = []\n",
        "\n",
        "for i, videoname in enumerate(hand_lst):\n",
        "    videoFile = videoname \n",
        "    vidcap = cv2.VideoCapture()\n",
        "    vidcap.open('./손톱,발톱영상/'+videoFile)\n",
        "\n",
        "    fps = vidcap.get(cv2.CAP_PROP_FPS)                              # 초당 프레임 수\n",
        "    frame_count = vidcap.get(cv2.CAP_PROP_FRAME_COUNT)              # 총 프레임 개수 \n",
        "    duration = frame_count / fps\n",
        "    print(f\"{i}번째 영상의 길이 :  {duration} 초\")\n",
        "\n",
        "    if '왼손' in videoFile:\n",
        "        keyword = 0\n",
        "    else:\n",
        "        keyword = 1\n",
        "\n",
        "    increase_width = 0.1        # 몇초마다 찍을건지 세팅.\n",
        "    second = 0\n",
        "    success = True\n",
        "\n",
        "    while success and second <= duration:\n",
        "        success,image = vidcap.read()\n",
        "        vidcap.set(cv2.CAP_PROP_POS_MSEC, second * 1000)             # cv2.CAP_PROP_POS_MSEC : 프레임 재생시간\n",
        "        image = cv2.rotate(image, cv2.ROTATE_90_CLOCKWISE)           # cv2.ROTATE_90_CLOCKWISE : 시계방향으로 90도 회전\n",
        "        cv2.imwrite(f\"./손이미지/손_{count}.jpg\", image)             # 저장시킬 위치 주소\n",
        "        hand_tag.append(keyword)\n",
        "        count += 1   \n",
        "        second += increase_width\n",
        "        if cv2.waitKey(10) == 27 or second >= duration:              # ESC키를 눌러서 탈출 or 영상 길이 도달시 탈출\n",
        "            break\n",
        "\n",
        "    print(f'{i}번째 영상 : {count} 장')\n",
        "print('----- end -----')\n",
        "hand = pd.DataFrame(hand_tag, columns=['hand'])\n",
        "display(hand.head())"
      ],
      "metadata": {
        "colab": {
          "base_uri": "https://localhost:8080/",
          "height": 774
        },
        "id": "qE4CN39V7Ac-",
        "outputId": "62e20232-a15b-4646-e9cb-a7d67c6a69f3"
      },
      "execution_count": 22,
      "outputs": [
        {
          "output_type": "stream",
          "name": "stdout",
          "text": [
            "0번째 영상의 길이 :  5.838333333333334 초\n",
            "0번째 영상 : 59 장\n",
            "1번째 영상의 길이 :  6.573333333333333 초\n",
            "1번째 영상 : 125 장\n",
            "2번째 영상의 길이 :  15.791666666666666 초\n",
            "2번째 영상 : 283 장\n",
            "3번째 영상의 길이 :  16.25 초\n",
            "3번째 영상 : 446 장\n",
            "4번째 영상의 길이 :  6.75 초\n",
            "4번째 영상 : 514 장\n",
            "5번째 영상의 길이 :  6.333333333333333 초\n",
            "5번째 영상 : 578 장\n",
            "6번째 영상의 길이 :  12.063844444444445 초\n",
            "6번째 영상 : 699 장\n",
            "7번째 영상의 길이 :  7.964788888888889 초\n",
            "7번째 영상 : 779 장\n",
            "8번째 영상의 길이 :  21.095033333333333 초\n",
            "8번째 영상 : 990 장\n",
            "9번째 영상의 길이 :  7.7 초\n",
            "9번째 영상 : 1068 장\n",
            "10번째 영상의 길이 :  13.666666666666666 초\n",
            "10번째 영상 : 1205 장\n",
            "11번째 영상의 길이 :  4.833333333333333 초\n",
            "11번째 영상 : 1254 장\n",
            "12번째 영상의 길이 :  22.474322222222224 초\n",
            "12번째 영상 : 1479 장\n",
            "13번째 영상의 길이 :  21.7542 초\n",
            "13번째 영상 : 1697 장\n",
            "----- end -----\n"
          ]
        },
        {
          "output_type": "display_data",
          "data": {
            "text/plain": [
              "   hand\n",
              "0     1\n",
              "1     1\n",
              "2     1\n",
              "3     1\n",
              "4     1"
            ],
            "text/html": [
              "\n",
              "  <div id=\"df-09d1f366-9108-40b0-bb3d-ad7b348aa4b7\">\n",
              "    <div class=\"colab-df-container\">\n",
              "      <div>\n",
              "<style scoped>\n",
              "    .dataframe tbody tr th:only-of-type {\n",
              "        vertical-align: middle;\n",
              "    }\n",
              "\n",
              "    .dataframe tbody tr th {\n",
              "        vertical-align: top;\n",
              "    }\n",
              "\n",
              "    .dataframe thead th {\n",
              "        text-align: right;\n",
              "    }\n",
              "</style>\n",
              "<table border=\"1\" class=\"dataframe\">\n",
              "  <thead>\n",
              "    <tr style=\"text-align: right;\">\n",
              "      <th></th>\n",
              "      <th>hand</th>\n",
              "    </tr>\n",
              "  </thead>\n",
              "  <tbody>\n",
              "    <tr>\n",
              "      <th>0</th>\n",
              "      <td>1</td>\n",
              "    </tr>\n",
              "    <tr>\n",
              "      <th>1</th>\n",
              "      <td>1</td>\n",
              "    </tr>\n",
              "    <tr>\n",
              "      <th>2</th>\n",
              "      <td>1</td>\n",
              "    </tr>\n",
              "    <tr>\n",
              "      <th>3</th>\n",
              "      <td>1</td>\n",
              "    </tr>\n",
              "    <tr>\n",
              "      <th>4</th>\n",
              "      <td>1</td>\n",
              "    </tr>\n",
              "  </tbody>\n",
              "</table>\n",
              "</div>\n",
              "      <button class=\"colab-df-convert\" onclick=\"convertToInteractive('df-09d1f366-9108-40b0-bb3d-ad7b348aa4b7')\"\n",
              "              title=\"Convert this dataframe to an interactive table.\"\n",
              "              style=\"display:none;\">\n",
              "        \n",
              "  <svg xmlns=\"http://www.w3.org/2000/svg\" height=\"24px\"viewBox=\"0 0 24 24\"\n",
              "       width=\"24px\">\n",
              "    <path d=\"M0 0h24v24H0V0z\" fill=\"none\"/>\n",
              "    <path d=\"M18.56 5.44l.94 2.06.94-2.06 2.06-.94-2.06-.94-.94-2.06-.94 2.06-2.06.94zm-11 1L8.5 8.5l.94-2.06 2.06-.94-2.06-.94L8.5 2.5l-.94 2.06-2.06.94zm10 10l.94 2.06.94-2.06 2.06-.94-2.06-.94-.94-2.06-.94 2.06-2.06.94z\"/><path d=\"M17.41 7.96l-1.37-1.37c-.4-.4-.92-.59-1.43-.59-.52 0-1.04.2-1.43.59L10.3 9.45l-7.72 7.72c-.78.78-.78 2.05 0 2.83L4 21.41c.39.39.9.59 1.41.59.51 0 1.02-.2 1.41-.59l7.78-7.78 2.81-2.81c.8-.78.8-2.07 0-2.86zM5.41 20L4 18.59l7.72-7.72 1.47 1.35L5.41 20z\"/>\n",
              "  </svg>\n",
              "      </button>\n",
              "      \n",
              "  <style>\n",
              "    .colab-df-container {\n",
              "      display:flex;\n",
              "      flex-wrap:wrap;\n",
              "      gap: 12px;\n",
              "    }\n",
              "\n",
              "    .colab-df-convert {\n",
              "      background-color: #E8F0FE;\n",
              "      border: none;\n",
              "      border-radius: 50%;\n",
              "      cursor: pointer;\n",
              "      display: none;\n",
              "      fill: #1967D2;\n",
              "      height: 32px;\n",
              "      padding: 0 0 0 0;\n",
              "      width: 32px;\n",
              "    }\n",
              "\n",
              "    .colab-df-convert:hover {\n",
              "      background-color: #E2EBFA;\n",
              "      box-shadow: 0px 1px 2px rgba(60, 64, 67, 0.3), 0px 1px 3px 1px rgba(60, 64, 67, 0.15);\n",
              "      fill: #174EA6;\n",
              "    }\n",
              "\n",
              "    [theme=dark] .colab-df-convert {\n",
              "      background-color: #3B4455;\n",
              "      fill: #D2E3FC;\n",
              "    }\n",
              "\n",
              "    [theme=dark] .colab-df-convert:hover {\n",
              "      background-color: #434B5C;\n",
              "      box-shadow: 0px 1px 3px 1px rgba(0, 0, 0, 0.15);\n",
              "      filter: drop-shadow(0px 1px 2px rgba(0, 0, 0, 0.3));\n",
              "      fill: #FFFFFF;\n",
              "    }\n",
              "  </style>\n",
              "\n",
              "      <script>\n",
              "        const buttonEl =\n",
              "          document.querySelector('#df-09d1f366-9108-40b0-bb3d-ad7b348aa4b7 button.colab-df-convert');\n",
              "        buttonEl.style.display =\n",
              "          google.colab.kernel.accessAllowed ? 'block' : 'none';\n",
              "\n",
              "        async function convertToInteractive(key) {\n",
              "          const element = document.querySelector('#df-09d1f366-9108-40b0-bb3d-ad7b348aa4b7');\n",
              "          const dataTable =\n",
              "            await google.colab.kernel.invokeFunction('convertToInteractive',\n",
              "                                                     [key], {});\n",
              "          if (!dataTable) return;\n",
              "\n",
              "          const docLinkHtml = 'Like what you see? Visit the ' +\n",
              "            '<a target=\"_blank\" href=https://colab.research.google.com/notebooks/data_table.ipynb>data table notebook</a>'\n",
              "            + ' to learn more about interactive tables.';\n",
              "          element.innerHTML = '';\n",
              "          dataTable['output_type'] = 'display_data';\n",
              "          await google.colab.output.renderOutput(dataTable, element);\n",
              "          const docLink = document.createElement('div');\n",
              "          docLink.innerHTML = docLinkHtml;\n",
              "          element.appendChild(docLink);\n",
              "        }\n",
              "      </script>\n",
              "    </div>\n",
              "  </div>\n",
              "  "
            ]
          },
          "metadata": {}
        }
      ]
    },
    {
      "cell_type": "code",
      "source": [
        "hand.to_csv('hand_tag.csv', index=False)"
      ],
      "metadata": {
        "id": "Dgat1Ob8wGba"
      },
      "execution_count": 23,
      "outputs": []
    },
    {
      "cell_type": "code",
      "source": [
        "if '발이미지' not in os.listdir():\n",
        "    os.mkdir('./발이미지')\n",
        "\n",
        "count = 0\n",
        "foot_tag = []\n",
        "\n",
        "for i, videoname in enumerate(foot_lst):\n",
        "    videoFile = videoname \n",
        "    vidcap = cv2.VideoCapture()\n",
        "    vidcap.open('./손톱,발톱영상/'+videoFile)\n",
        "\n",
        "    fps = vidcap.get(cv2.CAP_PROP_FPS)                              # 초당 프레임 수\n",
        "    frame_count = vidcap.get(cv2.CAP_PROP_FRAME_COUNT)              # 총 프레임 개수 \n",
        "    duration = frame_count / fps\n",
        "    print(f\"{i}번째 영상의 길이 :  {duration} 초\")\n",
        "\n",
        "    if '왼발' in videoFile:\n",
        "        keyword = 0\n",
        "    else:\n",
        "        keyword = 1\n",
        "\n",
        "    increase_width = 0.1        # 몇초마다 찍을건지 세팅.\n",
        "    second = 0\n",
        "    success = True\n",
        "\n",
        "    while success and second <= duration:\n",
        "        success,image = vidcap.read()\n",
        "        vidcap.set(cv2.CAP_PROP_POS_MSEC, second * 1000)             # cv2.CAP_PROP_POS_MSEC : 프레임 재생시간\n",
        "        image = cv2.rotate(image, cv2.ROTATE_90_CLOCKWISE)           # cv2.ROTATE_90_CLOCKWISE : 시계방향으로 90도 회전\n",
        "        cv2.imwrite(f\"./발이미지/발_{count}.jpg\", image)             # 저장시킬 위치 주소\n",
        "        foot_tag.append(keyword)\n",
        "        count += 1   \n",
        "        second += increase_width\n",
        "        if cv2.waitKey(10) == 27 or second >= duration:              # ESC키를 눌러서 탈출 or 영상 길이 도달시 탈출\n",
        "            break\n",
        "\n",
        "    print(f'{i}번째 영상 : {count} 장')\n",
        "print('----- end -----')\n",
        "foot = pd.DataFrame(foot_tag, columns=['foot'])\n",
        "foot.to_csv('foot_tag', index=False)\n",
        "display(foot.head())"
      ],
      "metadata": {
        "id": "JpCVqqDFAN6O"
      },
      "execution_count": null,
      "outputs": []
    }
  ]
}