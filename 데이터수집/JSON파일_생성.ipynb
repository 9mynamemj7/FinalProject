{
  "nbformat": 4,
  "nbformat_minor": 0,
  "metadata": {
    "colab": {
      "name": "JSON파일 생성.ipynb",
      "provenance": [],
      "machine_shape": "hm"
    },
    "kernelspec": {
      "name": "python3",
      "display_name": "Python 3"
    },
    "language_info": {
      "name": "python"
    },
    "gpuClass": "standard"
  },
  "cells": [
    {
      "cell_type": "code",
      "execution_count": 12,
      "metadata": {
        "id": "EBrE10gjNAE_"
      },
      "outputs": [],
      "source": [
        "import json\n",
        "from collections import OrderedDict"
      ]
    },
    {
      "cell_type": "code",
      "source": [
        "nail_data = OrderedDict()"
      ],
      "metadata": {
        "id": "Gn8PuvdINNI0"
      },
      "execution_count": 13,
      "outputs": []
    },
    {
      "cell_type": "code",
      "source": [
        "# 색상      : red orange yellow blue green purple pink gold black white beige brown gray \n",
        "# 분위기    : 청순 활발 시크 데일리 화려 웨딩  \n",
        "# 디자인    : 풀컬러 마블 매트 시럽 자개 그라데이션 글리터 프렌치 시스루 체크 패턴 드로잉 벨벳 별자리\n",
        "# 날씨      : 봄 여름 가을 겨울 눈 비 맑음 \n",
        "\n",
        "nail_data['ㅁㅁ'] = {\"색상\":['1', '2','3'],\n",
        "                        \"분위기\":['ㅁ'],\n",
        "                        \"디자인\":['ㅁ'],\n",
        "                        \"날씨\":['ㅁ']}"
      ],
      "metadata": {
        "id": "G0jV_rVNN0Gz"
      },
      "execution_count": 19,
      "outputs": []
    },
    {
      "cell_type": "code",
      "source": [
        "nail_data"
      ],
      "metadata": {
        "colab": {
          "base_uri": "https://localhost:8080/"
        },
        "id": "fGqO_qeBkiZh",
        "outputId": "8595823c-55a1-406c-d9ab-dff0d6afb51f"
      },
      "execution_count": 20,
      "outputs": [
        {
          "output_type": "execute_result",
          "data": {
            "text/plain": [
              "OrderedDict([('sj',\n",
              "              {'날씨': ['ㅁ'], '디자인': ['ㅁ'], '분위기': ['ㅁ'], '색상': ['1', '2']}),\n",
              "             ('ㅁㅁ',\n",
              "              {'날씨': ['ㅁ'],\n",
              "               '디자인': ['ㅁ'],\n",
              "               '분위기': ['ㅁ'],\n",
              "               '색상': ['1', '2', '3']})])"
            ]
          },
          "metadata": {},
          "execution_count": 20
        }
      ]
    },
    {
      "cell_type": "code",
      "source": [
        "# 최종 저장시 실행할 코드\n",
        "with open('본인이름.json', 'w', encoding='utf-8') as make_file:\n",
        "    json.dump(nail_data, make_file, ensure_ascii=False, ident='\\t')"
      ],
      "metadata": {
        "id": "N9zjizJYlc4a"
      },
      "execution_count": null,
      "outputs": []
    }
  ]
}