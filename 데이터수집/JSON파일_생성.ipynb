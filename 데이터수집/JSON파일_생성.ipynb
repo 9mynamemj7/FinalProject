{
  "nbformat": 4,
  "nbformat_minor": 0,
  "metadata": {
    "colab": {
      "name": "JSON파일 생성.ipynb",
      "provenance": [],
      "machine_shape": "hm",
      "collapsed_sections": []
    },
    "kernelspec": {
      "name": "python3",
      "display_name": "Python 3"
    },
    "language_info": {
      "name": "python"
    },
    "gpuClass": "standard"
  },
  "cells": [
    {
      "cell_type": "code",
      "execution_count": null,
      "metadata": {
        "id": "EBrE10gjNAE_"
      },
      "outputs": [],
      "source": [
        "import json, os\n",
        "from collections import OrderedDict"
      ]
    },
    {
      "cell_type": "code",
      "source": [
        "nail_data = OrderedDict()"
      ],
      "metadata": {
        "id": "Gn8PuvdINNI0"
      },
      "execution_count": null,
      "outputs": []
    },
    {
      "cell_type": "code",
      "source": [
        "# 색상      : red orange yellow blue green purple pink gold black white beige brown gray \n",
        "# 분위기    : 청순 활발 시크 데일리 화려 웨딩 큐티 시원 차분\n",
        "# 디자인    : 마블 매트 자개 그라데이션 글리터 프렌치 시스루 체크 패턴 드로잉 별자리 풀컬러 시럽\n",
        "# 날씨      : 봄 여름 가을 겨울 눈 비 맑음 \n",
        "\n",
        "nail_data['오호라X우영미 실버라이닝 네일 02'] = {\"색상\":['black','white'],\n",
        "                        \"분위기\":['데일리','시크'],\n",
        "                        \"디자인\":['프렌치','패턴'],\n",
        "                        \"날씨\":['여름','겨울']}\n",
        "\n",
        "nail_data['라운드스퀘어M 01'] = {\"색상\":['blue'],\n",
        "                        \"분위기\":['큐티','데일리','시원'],\n",
        "                        \"디자인\":['시스루'],\n",
        "                        \"날씨\":['여름','비']}\n",
        "\n",
        "nail_data['N 참드 네일'] = {\"색상\":['pink','brown','gold'],\n",
        "                        \"분위기\":['큐티','화려','시크'],\n",
        "                        \"디자인\":['시럽','글리터'],\n",
        "                        \"날씨\":['봄','가을']}          "
      ],
      "metadata": {
        "id": "G0jV_rVNN0Gz"
      },
      "execution_count": null,
      "outputs": []
    },
    {
      "cell_type": "code",
      "source": [
        "len(nail_data), nail_data"
      ],
      "metadata": {
        "id": "fGqO_qeBkiZh"
      },
      "execution_count": null,
      "outputs": []
    },
    {
      "cell_type": "code",
      "source": [
        "# 최종 저장시 실행할 코드\n",
        "with open('수진.json', 'w', encoding='utf-8') as make_file:\n",
        "    json.dump(nail_data, make_file, ensure_ascii=False, indent='\\t')"
      ],
      "metadata": {
        "id": "N9zjizJYlc4a"
      },
      "execution_count": null,
      "outputs": []
    },
    {
      "cell_type": "markdown",
      "source": [
        "### json파일 합치기"
      ],
      "metadata": {
        "id": "_bk0NEqnZbhj"
      }
    },
    {
      "cell_type": "code",
      "source": [
        "%cd /content/drive/MyDrive/4조/2.데이터/손톱디자인"
      ],
      "metadata": {
        "colab": {
          "base_uri": "https://localhost:8080/"
        },
        "id": "DAbsO1JIaoUU",
        "outputId": "b6a29e26-cb45-429d-a347-6c481056771e"
      },
      "execution_count": null,
      "outputs": [
        {
          "output_type": "stream",
          "name": "stdout",
          "text": [
            "/content/drive/.shortcut-targets-by-id/1t5JFoUpndxpFtZ957fKqxENUgFJ7lTNo/4조/2.데이터/손톱디자인\n"
          ]
        }
      ]
    },
    {
      "cell_type": "code",
      "source": [
        "file = open(\"수진.json\",\"r\",encoding='utf-8')\n",
        "json1 = json.load(file)\n",
        "\n",
        "file = open(\"박성호2.json\",\"r\",encoding='utf-8')\n",
        "json2 = json.load(file)\n",
        "\n",
        "file = open(\"박성호1.json\",\"r\",encoding='utf-8')\n",
        "json3 = json.load(file)\n",
        "\n",
        "file = open(\"현선1.json\",\"r\",encoding='utf-8')\n",
        "json4 = json.load(file)\n",
        "\n",
        "file = open(\"현선2.json\",\"r\",encoding='utf-8')\n",
        "json5 = json.load(file)"
      ],
      "metadata": {
        "id": "D7BdNB66Zeqr"
      },
      "execution_count": null,
      "outputs": []
    },
    {
      "cell_type": "code",
      "source": [
        "json1.update(json2)\n",
        "json1.update(json3)\n",
        "json1.update(json4)\n",
        "json1.update(json5)"
      ],
      "metadata": {
        "id": "rZvLRHDjZdQ8"
      },
      "execution_count": null,
      "outputs": []
    },
    {
      "cell_type": "code",
      "source": [
        "# 합친 뒤 저장\n",
        "with open('네일태그.json', 'w', encoding='utf-8') as make_file:\n",
        "    json.dump(json1, make_file, ensure_ascii=False, indent='\\t')"
      ],
      "metadata": {
        "id": "wDbb8rm5bRWT"
      },
      "execution_count": null,
      "outputs": []
    }
  ]
}