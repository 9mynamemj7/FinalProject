{
 "cells": [
  {
   "cell_type": "code",
   "execution_count": 3,
   "metadata": {},
   "outputs": [
    {
     "name": "stdout",
     "output_type": "stream",
     "text": [
      "login start - option instagram\n",
      "login instagram success\n",
      "Start 네일아트 Extract\n",
      "57 건\n"
     ]
    }
   ],
   "source": [
    "from selenium import webdriver as wd\n",
    "from selenium.webdriver.common.by import By\n",
    "from selenium.webdriver.common.keys import Keys\n",
    "from selenium.webdriver.support.ui import WebDriverWait\n",
    "from selenium.webdriver.support import expected_conditions as EC\n",
    "from bs4 import BeautifulSoup as bs\n",
    "from urllib.request import urlopen\n",
    "from urllib import parse\n",
    "import time, requests, datetime, re, json, os\n",
    "import pandas as pd\n",
    "from metadata import *\n",
    "\n",
    "def doScrollDown(whileSeconds):\n",
    "        start = datetime.datetime.now()\n",
    "        end = start + datetime.timedelta(seconds=whileSeconds)\n",
    "        while True:\n",
    "            driver.execute_script('window.scrollTo(0, document.body.scrollHeight);')\n",
    "            time.sleep(1)\n",
    "            if datetime.datetime.now() > end:\n",
    "                break\n",
    "\n",
    "keyword = input(\"검색어: \")\n",
    "\n",
    "\n",
    "driver = wd.Chrome(driver_path)\n",
    "print(f\"login start - option {login_option}\")\n",
    "login_url = \"https://www.instagram.com/accounts/login/\"\n",
    "driver.get(login_url)\n",
    "time.sleep(5)\n",
    "\n",
    "is_login_success = False\n",
    "if login_option == \"instagram\":\n",
    "    try:\n",
    "        instagram_id_form = driver.find_element(By.XPATH, instagram_id_name)\n",
    "        instagram_id_form.send_keys(user_id)\n",
    "        time.sleep(3)\n",
    "\n",
    "        instagram_pw_form = driver.find_element(By.XPATH, instagram_pw_name)\n",
    "        instagram_pw_form.send_keys(user_pw)\n",
    "        time.sleep(3)\n",
    "        \n",
    "        login_ok_button =  driver.find_element(By.XPATH, instagram_login_btn)\n",
    "        login_ok_button.click()\n",
    "        is_login_success = True\n",
    "    except:\n",
    "        print(\"instagram login fail\")\n",
    "        is_login_success = False\n",
    "    time.sleep(10)\n",
    "\n",
    "\n",
    "if is_login_success:\n",
    "    print(f\"login {login_option} success\")\n",
    "    print(f\"Start {keyword} Extract\")\n",
    "    # keyword = parse.quote(keyword)\n",
    "    url = f\"https://www.instagram.com/explore/tags/{keyword}/\"\n",
    "    driver.get(url)\n",
    "    time.sleep(5)\n",
    "    \n",
    "    # 스크롤 다운\n",
    "    doScrollDown(30)\n",
    "\n",
    "# 본문 url\n",
    "html = driver.page_source\n",
    "soup = bs(html, 'html.parser')\n",
    "soup2 = soup.find(\"article\", class_=\"_aao7\")\n",
    "soup3 = soup2.find_all(\"div\", class_=\"_aabd _aa8k _aanf\")\n",
    "print(len(soup3),\"건\")\n",
    "for i in soup3:\n",
    "    driver.get(\"https://www.instagram.com/\"+i.a['href'])\n",
    "    time.sleep(2)\n",
    "    html = driver.page_source\n",
    "    main_soup = bs(html, 'html.parser')\n",
    "    \n",
    "    # 태그\n",
    "    main_soup_tag = main_soup.find_all(\"div\", class_=\"_a9zs\" )\n",
    "    try:\n",
    "        tags = re.findall('#[A-Za-z0-9가-힣]+', str(main_soup_tag[0]))\n",
    "    except:\n",
    "        tags = re.findall('#[A-Za-z0-9가-힣]+', str(main_soup_tag[1]))\n",
    "    tag_data = \"\".join(tags)\n",
    "    tag.append(tag_data.replace(\"#\",\" \"))\n",
    "    \n",
    "    # 업로더\n",
    "    main_soup_id = main_soup.find_all(\"div\", class_=\"_aaqt\")\n",
    "    upload_id.append(main_soup_id[0].text)\n",
    "    \n",
    "    # 이미지\n",
    "    img_src = main_soup.find_all(\"img\", class_=\"_aagt\")\n",
    "    img_url.append(img_src[0].attrs['src'])\n",
    "\n",
    "driver.close()\n"
   ]
  },
  {
   "cell_type": "code",
   "execution_count": 4,
   "metadata": {},
   "outputs": [
    {
     "data": {
      "text/plain": [
       "(57, 57, 57)"
      ]
     },
     "execution_count": 4,
     "metadata": {},
     "output_type": "execute_result"
    }
   ],
   "source": [
    "len(upload_id),len(tag),len(img_url)"
   ]
  },
  {
   "cell_type": "code",
   "execution_count": 5,
   "metadata": {},
   "outputs": [],
   "source": [
    "insta_crawling_df = pd.DataFrame({\"upload_id\": upload_id,\n",
    "                                                        \"tag\": tag,\n",
    "                                                        \"img_url\": img_url})"
   ]
  },
  {
   "cell_type": "code",
   "execution_count": 6,
   "metadata": {},
   "outputs": [
    {
     "data": {
      "text/html": [
       "<div>\n",
       "<style scoped>\n",
       "    .dataframe tbody tr th:only-of-type {\n",
       "        vertical-align: middle;\n",
       "    }\n",
       "\n",
       "    .dataframe tbody tr th {\n",
       "        vertical-align: top;\n",
       "    }\n",
       "\n",
       "    .dataframe thead th {\n",
       "        text-align: right;\n",
       "    }\n",
       "</style>\n",
       "<table border=\"1\" class=\"dataframe\">\n",
       "  <thead>\n",
       "    <tr style=\"text-align: right;\">\n",
       "      <th></th>\n",
       "      <th>upload_id</th>\n",
       "      <th>tag</th>\n",
       "      <th>img_url</th>\n",
       "    </tr>\n",
       "  </thead>\n",
       "  <tbody>\n",
       "    <tr>\n",
       "      <th>0</th>\n",
       "      <td>nail_clida</td>\n",
       "      <td></td>\n",
       "      <td>https://scontent-ssn1-1.cdninstagram.com/v/t51...</td>\n",
       "    </tr>\n",
       "    <tr>\n",
       "      <th>1</th>\n",
       "      <td>nail_dayjude</td>\n",
       "      <td></td>\n",
       "      <td>https://scontent-ssn1-1.cdninstagram.com/v/t51...</td>\n",
       "    </tr>\n",
       "    <tr>\n",
       "      <th>2</th>\n",
       "      <td>ddung_nail__</td>\n",
       "      <td></td>\n",
       "      <td>https://scontent-ssn1-1.cdninstagram.com/v/t51...</td>\n",
       "    </tr>\n",
       "    <tr>\n",
       "      <th>3</th>\n",
       "      <td>goeun.nail</td>\n",
       "      <td></td>\n",
       "      <td>https://scontent-ssn1-1.cdninstagram.com/v/t51...</td>\n",
       "    </tr>\n",
       "    <tr>\n",
       "      <th>4</th>\n",
       "      <td>siminail</td>\n",
       "      <td>포인트네일 귀여운네일</td>\n",
       "      <td>https://scontent-ssn1-1.cdninstagram.com/v/t51...</td>\n",
       "    </tr>\n",
       "  </tbody>\n",
       "</table>\n",
       "</div>"
      ],
      "text/plain": [
       "      upload_id           tag  \\\n",
       "0    nail_clida                 \n",
       "1  nail_dayjude                 \n",
       "2  ddung_nail__                 \n",
       "3    goeun.nail                 \n",
       "4      siminail   포인트네일 귀여운네일   \n",
       "\n",
       "                                             img_url  \n",
       "0  https://scontent-ssn1-1.cdninstagram.com/v/t51...  \n",
       "1  https://scontent-ssn1-1.cdninstagram.com/v/t51...  \n",
       "2  https://scontent-ssn1-1.cdninstagram.com/v/t51...  \n",
       "3  https://scontent-ssn1-1.cdninstagram.com/v/t51...  \n",
       "4  https://scontent-ssn1-1.cdninstagram.com/v/t51...  "
      ]
     },
     "execution_count": 6,
     "metadata": {},
     "output_type": "execute_result"
    }
   ],
   "source": [
    "insta_crawling_df.head()"
   ]
  },
  {
   "cell_type": "code",
   "execution_count": 7,
   "metadata": {},
   "outputs": [],
   "source": [
    "# 저장\n",
    "insta_crawling_df.to_csv(f\"./insta_crawling_{keyword}.csv\", index=False)"
   ]
  },
  {
   "cell_type": "code",
   "execution_count": null,
   "metadata": {},
   "outputs": [],
   "source": []
  }
 ],
 "metadata": {
  "kernelspec": {
   "display_name": "Python 3.7.13 ('pjt')",
   "language": "python",
   "name": "python3"
  },
  "language_info": {
   "codemirror_mode": {
    "name": "ipython",
    "version": 3
   },
   "file_extension": ".py",
   "mimetype": "text/x-python",
   "name": "python",
   "nbconvert_exporter": "python",
   "pygments_lexer": "ipython3",
   "version": "3.7.13"
  },
  "orig_nbformat": 4,
  "vscode": {
   "interpreter": {
    "hash": "3a099efce6165807186ad25a3c8b5e494dc5a50907a1956752729ddbb46eda64"
   }
  }
 },
 "nbformat": 4,
 "nbformat_minor": 2
}
